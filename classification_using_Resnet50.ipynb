{
  "nbformat": 4,
  "nbformat_minor": 0,
  "metadata": {
    "colab": {
      "provenance": [],
      "gpuType": "T4"
    },
    "kernelspec": {
      "name": "python3",
      "display_name": "Python 3"
    },
    "language_info": {
      "name": "python"
    },
    "accelerator": "GPU"
  },
  "cells": [
    {
      "cell_type": "markdown",
      "source": [
        "## Skin Cancer Classification using ResNet50 (HAM10000 Dataset)\n",
        "\n",
        "This notebook builds and trains a deep learning model for **skin lesion classification** using the **ResNet50 architecture** pretrained on ImageNet.\n",
        "\n",
        "**Dataset:** [HAM10000](https://www.kaggle.com/kmader/skin-cancer-mnist-ham10000)  \n",
        "**Classes (7):**\n",
        "- Melanocytic nevi (nv)\n",
        "- Melanoma (mel)\n",
        "- Benign keratosis-like lesions (bkl)\n",
        "- Basal cell carcinoma (bcc)\n",
        "- Actinic keratoses (akiec)\n",
        "- Vascular lesions (vasc)\n",
        "- Dermatofibroma (df)"
      ],
      "metadata": {
        "id": "hGTx5lsTYxuk"
      }
    },
    {
      "cell_type": "markdown",
      "source": [
        "## Step 1 — Data Loading and Preprocessing\n",
        "\n",
        "1. Download HAM10000 dataset using `kagglehub`.\n",
        "2. Load metadata (`HAM10000_metadata.csv`).\n",
        "3. Rename columns for clarity and map short diagnosis codes to full names.\n",
        "4. Fill missing age values with the mean and convert to integer.\n",
        "5. Encode diagnosis labels (0–6).\n",
        "6. Check for unmapped values and ensure data consistency."
      ],
      "metadata": {
        "id": "luHshQ43RiPF"
      }
    },
    {
      "cell_type": "code",
      "source": [
        "import kagglehub\n",
        "\n",
        "# Download latest version\n",
        "path = kagglehub.dataset_download(\"kmader/skin-cancer-mnist-ham10000\")\n",
        "\n",
        "print(\"Path to dataset files:\", path)"
      ],
      "metadata": {
        "colab": {
          "base_uri": "https://localhost:8080/"
        },
        "id": "KN9lgQ45Vu-p",
        "outputId": "62ac2dc4-bcfc-4acd-82e9-67c31a2e1d13"
      },
      "execution_count": null,
      "outputs": [
        {
          "output_type": "stream",
          "name": "stdout",
          "text": [
            "Path to dataset files: /kaggle/input/skin-cancer-mnist-ham10000\n"
          ]
        }
      ]
    },
    {
      "cell_type": "code",
      "source": [
        "import os\n",
        "print(\"Files in dataset:\", os.listdir(path))"
      ],
      "metadata": {
        "colab": {
          "base_uri": "https://localhost:8080/"
        },
        "id": "5iKCdGK2ZDCB",
        "outputId": "cbc18c06-784e-46e9-ff00-8b741dd30744"
      },
      "execution_count": null,
      "outputs": [
        {
          "output_type": "stream",
          "name": "stdout",
          "text": [
            "Files in dataset: ['hmnist_8_8_RGB.csv', 'hmnist_28_28_RGB.csv', 'HAM10000_images_part_1', 'ham10000_images_part_1', 'hmnist_8_8_L.csv', 'HAM10000_images_part_2', 'ham10000_images_part_2', 'hmnist_28_28_L.csv', 'HAM10000_metadata.csv']\n"
          ]
        }
      ]
    },
    {
      "cell_type": "code",
      "source": [
        "import pandas as pd\n",
        "import os\n",
        "\n",
        "metadata_path = os.path.join(path, \"HAM10000_metadata.csv\")\n",
        "metadata = pd.read_csv(metadata_path)\n",
        "\n",
        "\n",
        "\n",
        "print(metadata.head())\n",
        "print(metadata.columns)\n"
      ],
      "metadata": {
        "colab": {
          "base_uri": "https://localhost:8080/"
        },
        "id": "h9p29lB6ZFVV",
        "outputId": "cc12c3a9-63cc-47d6-cb11-c2efda6358b5"
      },
      "execution_count": null,
      "outputs": [
        {
          "output_type": "stream",
          "name": "stdout",
          "text": [
            "     lesion_id      image_id   dx dx_type   age   sex localization\n",
            "0  HAM_0000118  ISIC_0027419  bkl   histo  80.0  male        scalp\n",
            "1  HAM_0000118  ISIC_0025030  bkl   histo  80.0  male        scalp\n",
            "2  HAM_0002730  ISIC_0026769  bkl   histo  80.0  male        scalp\n",
            "3  HAM_0002730  ISIC_0025661  bkl   histo  80.0  male        scalp\n",
            "4  HAM_0001466  ISIC_0031633  bkl   histo  75.0  male          ear\n",
            "Index(['lesion_id', 'image_id', 'dx', 'dx_type', 'age', 'sex', 'localization'], dtype='object')\n"
          ]
        }
      ]
    },
    {
      "cell_type": "code",
      "source": [
        "metadata.info()"
      ],
      "metadata": {
        "colab": {
          "base_uri": "https://localhost:8080/"
        },
        "id": "LHgz7AN9KTXf",
        "outputId": "cd37d39f-b985-44af-e1ba-e41adc9a5f57"
      },
      "execution_count": null,
      "outputs": [
        {
          "output_type": "stream",
          "name": "stdout",
          "text": [
            "<class 'pandas.core.frame.DataFrame'>\n",
            "RangeIndex: 10015 entries, 0 to 10014\n",
            "Data columns (total 7 columns):\n",
            " #   Column        Non-Null Count  Dtype  \n",
            "---  ------        --------------  -----  \n",
            " 0   lesion_id     10015 non-null  object \n",
            " 1   image_id      10015 non-null  object \n",
            " 2   dx            10015 non-null  object \n",
            " 3   dx_type       10015 non-null  object \n",
            " 4   age           9958 non-null   float64\n",
            " 5   sex           10015 non-null  object \n",
            " 6   localization  10015 non-null  object \n",
            "dtypes: float64(1), object(6)\n",
            "memory usage: 547.8+ KB\n"
          ]
        }
      ]
    },
    {
      "cell_type": "code",
      "source": [
        "metadata.rename(columns={\n",
        "    'lesion_id': 'Lesion_ID',\n",
        "    'image_id': 'Image_ID',\n",
        "    'dx': 'Diagnosis',\n",
        "    'dx_type': 'Diagnosis_Type',\n",
        "    'age': 'Age',\n",
        "    'sex': 'Sex',\n",
        "    'localization': 'Localization'\n",
        "}, inplace=True)\n",
        "\n",
        "\n",
        "diagnosis_map = {\n",
        "    'nv': 'Melanocytic nevi (nv)',\n",
        "    'mel': 'Melanoma (mel)',\n",
        "    'bkl': 'Benign keratosis-like lesions (bkl)',\n",
        "    'bcc': 'Basal cell carcinoma (bcc)',\n",
        "    'akiec': 'Actinic keratoses (akiec)',\n",
        "    'vasc': 'Vascular lesions (vasc)',\n",
        "    'df': 'Dermatofibroma (df)'\n",
        "}\n",
        "\n",
        "metadata['Diagnosis'] = metadata['Diagnosis'].map(diagnosis_map)\n",
        "\n",
        "\n",
        "print(metadata.head())\n"
      ],
      "metadata": {
        "colab": {
          "base_uri": "https://localhost:8080/"
        },
        "id": "oLHY5BQPfy9a",
        "outputId": "eeb03895-493b-4cf2-a5ef-59147306975e"
      },
      "execution_count": null,
      "outputs": [
        {
          "output_type": "stream",
          "name": "stdout",
          "text": [
            "     Lesion_ID      Image_ID                            Diagnosis  \\\n",
            "0  HAM_0000118  ISIC_0027419  Benign keratosis-like lesions (bkl)   \n",
            "1  HAM_0000118  ISIC_0025030  Benign keratosis-like lesions (bkl)   \n",
            "2  HAM_0002730  ISIC_0026769  Benign keratosis-like lesions (bkl)   \n",
            "3  HAM_0002730  ISIC_0025661  Benign keratosis-like lesions (bkl)   \n",
            "4  HAM_0001466  ISIC_0031633  Benign keratosis-like lesions (bkl)   \n",
            "\n",
            "  Diagnosis_Type   Age   Sex Localization  \n",
            "0          histo  80.0  male        scalp  \n",
            "1          histo  80.0  male        scalp  \n",
            "2          histo  80.0  male        scalp  \n",
            "3          histo  80.0  male        scalp  \n",
            "4          histo  75.0  male          ear  \n"
          ]
        }
      ]
    },
    {
      "cell_type": "code",
      "source": [
        "metadata.isnull().sum()"
      ],
      "metadata": {
        "colab": {
          "base_uri": "https://localhost:8080/",
          "height": 303
        },
        "id": "S9GBed0IMWeE",
        "outputId": "271fe7a0-5d2e-4e93-d948-b6680d75c1a5"
      },
      "execution_count": null,
      "outputs": [
        {
          "output_type": "execute_result",
          "data": {
            "text/plain": [
              "Lesion_ID          0\n",
              "Image_ID           0\n",
              "Diagnosis          0\n",
              "Diagnosis_Type     0\n",
              "Age               57\n",
              "Sex                0\n",
              "Localization       0\n",
              "dtype: int64"
            ],
            "text/html": [
              "<div>\n",
              "<style scoped>\n",
              "    .dataframe tbody tr th:only-of-type {\n",
              "        vertical-align: middle;\n",
              "    }\n",
              "\n",
              "    .dataframe tbody tr th {\n",
              "        vertical-align: top;\n",
              "    }\n",
              "\n",
              "    .dataframe thead th {\n",
              "        text-align: right;\n",
              "    }\n",
              "</style>\n",
              "<table border=\"1\" class=\"dataframe\">\n",
              "  <thead>\n",
              "    <tr style=\"text-align: right;\">\n",
              "      <th></th>\n",
              "      <th>0</th>\n",
              "    </tr>\n",
              "  </thead>\n",
              "  <tbody>\n",
              "    <tr>\n",
              "      <th>Lesion_ID</th>\n",
              "      <td>0</td>\n",
              "    </tr>\n",
              "    <tr>\n",
              "      <th>Image_ID</th>\n",
              "      <td>0</td>\n",
              "    </tr>\n",
              "    <tr>\n",
              "      <th>Diagnosis</th>\n",
              "      <td>0</td>\n",
              "    </tr>\n",
              "    <tr>\n",
              "      <th>Diagnosis_Type</th>\n",
              "      <td>0</td>\n",
              "    </tr>\n",
              "    <tr>\n",
              "      <th>Age</th>\n",
              "      <td>57</td>\n",
              "    </tr>\n",
              "    <tr>\n",
              "      <th>Sex</th>\n",
              "      <td>0</td>\n",
              "    </tr>\n",
              "    <tr>\n",
              "      <th>Localization</th>\n",
              "      <td>0</td>\n",
              "    </tr>\n",
              "  </tbody>\n",
              "</table>\n",
              "</div><br><label><b>dtype:</b> int64</label>"
            ]
          },
          "metadata": {},
          "execution_count": 59
        }
      ]
    },
    {
      "cell_type": "code",
      "metadata": {
        "colab": {
          "base_uri": "https://localhost:8080/",
          "height": 417
        },
        "id": "8e76362f",
        "outputId": "85b21b1d-4e7f-4c6d-e82c-2bb0e9176faa"
      },
      "source": [
        "# Handling null values\n",
        "metadata['Age'].fillna(value=int(metadata['Age'].mean()), inplace=True)\n",
        "# Converting dtype of age to int32\n",
        "metadata['Age'] = metadata['Age'].astype('int32')\n",
        "# Categorically encoding label of the images\n",
        "\n",
        "label_mapping = {\n",
        "    'Melanocytic nevi (nv)': 0,\n",
        "    'Melanoma (mel)': 1,\n",
        "    'Benign keratosis-like lesions (bkl)': 2,\n",
        "    'Basal cell carcinoma (bcc)': 3,\n",
        "    'Actinic keratoses (akiec)': 4,\n",
        "    'Vascular lesions (vasc)': 5,\n",
        "    'Dermatofibroma (df)': 6\n",
        "}\n",
        "reverse_label_mapping = dict((value, key) for key, value in label_mapping.items())\n",
        "\n",
        "# Clean the 'Diagnosis' column by stripping whitespace\n",
        "metadata['Diagnosis'] = metadata['Diagnosis'].str.strip()\n",
        "\n",
        "metadata['label'] = metadata['Diagnosis'].map(label_mapping)\n",
        "\n",
        "# Check for any unmapped diagnosis values\n",
        "unmapped_diagnoses = metadata[metadata['label'].isna()]['Diagnosis'].unique()\n",
        "if len(unmapped_diagnoses) > 0:\n",
        "    print(\"\\nWarning: The following diagnosis values were not mapped:\", unmapped_diagnoses)\n",
        "\n",
        "print(\"\\nUnique values in 'Diagnosis' column after cleaning:\", metadata['Diagnosis'].unique())\n",
        "metadata.sample(5)"
      ],
      "execution_count": null,
      "outputs": [
        {
          "output_type": "stream",
          "name": "stdout",
          "text": [
            "\n",
            "Unique values in 'Diagnosis' column after cleaning: ['Benign keratosis-like lesions (bkl)' 'Melanocytic nevi (nv)'\n",
            " 'Dermatofibroma (df)' 'Melanoma (mel)' 'Vascular lesions (vasc)'\n",
            " 'Basal cell carcinoma (bcc)' 'Actinic keratoses (akiec)']\n"
          ]
        },
        {
          "output_type": "stream",
          "name": "stderr",
          "text": [
            "/tmp/ipython-input-1824236454.py:2: FutureWarning: A value is trying to be set on a copy of a DataFrame or Series through chained assignment using an inplace method.\n",
            "The behavior will change in pandas 3.0. This inplace method will never work because the intermediate object on which we are setting values always behaves as a copy.\n",
            "\n",
            "For example, when doing 'df[col].method(value, inplace=True)', try using 'df.method({col: value}, inplace=True)' or df[col] = df[col].method(value) instead, to perform the operation inplace on the original object.\n",
            "\n",
            "\n",
            "  metadata['Age'].fillna(value=int(metadata['Age'].mean()), inplace=True)\n"
          ]
        },
        {
          "output_type": "execute_result",
          "data": {
            "text/plain": [
              "        Lesion_ID      Image_ID                            Diagnosis  \\\n",
              "8813  HAM_0005745  ISIC_0030873                Melanocytic nevi (nv)   \n",
              "589   HAM_0006211  ISIC_0025519  Benign keratosis-like lesions (bkl)   \n",
              "8513  HAM_0000129  ISIC_0027486                Melanocytic nevi (nv)   \n",
              "264   HAM_0004406  ISIC_0034125  Benign keratosis-like lesions (bkl)   \n",
              "9206  HAM_0005250  ISIC_0029792                Melanocytic nevi (nv)   \n",
              "\n",
              "     Diagnosis_Type  Age     Sex Localization  label  \n",
              "8813          histo   45    male      abdomen      0  \n",
              "589           histo   50    male         neck      2  \n",
              "8513          histo   40  female         back      0  \n",
              "264           histo   80    male         back      2  \n",
              "9206          histo   40  female         foot      0  "
            ],
            "text/html": [
              "\n",
              "  <div id=\"df-96cda5fa-8063-4967-8272-87d20b4e630a\" class=\"colab-df-container\">\n",
              "    <div>\n",
              "<style scoped>\n",
              "    .dataframe tbody tr th:only-of-type {\n",
              "        vertical-align: middle;\n",
              "    }\n",
              "\n",
              "    .dataframe tbody tr th {\n",
              "        vertical-align: top;\n",
              "    }\n",
              "\n",
              "    .dataframe thead th {\n",
              "        text-align: right;\n",
              "    }\n",
              "</style>\n",
              "<table border=\"1\" class=\"dataframe\">\n",
              "  <thead>\n",
              "    <tr style=\"text-align: right;\">\n",
              "      <th></th>\n",
              "      <th>Lesion_ID</th>\n",
              "      <th>Image_ID</th>\n",
              "      <th>Diagnosis</th>\n",
              "      <th>Diagnosis_Type</th>\n",
              "      <th>Age</th>\n",
              "      <th>Sex</th>\n",
              "      <th>Localization</th>\n",
              "      <th>label</th>\n",
              "    </tr>\n",
              "  </thead>\n",
              "  <tbody>\n",
              "    <tr>\n",
              "      <th>8813</th>\n",
              "      <td>HAM_0005745</td>\n",
              "      <td>ISIC_0030873</td>\n",
              "      <td>Melanocytic nevi (nv)</td>\n",
              "      <td>histo</td>\n",
              "      <td>45</td>\n",
              "      <td>male</td>\n",
              "      <td>abdomen</td>\n",
              "      <td>0</td>\n",
              "    </tr>\n",
              "    <tr>\n",
              "      <th>589</th>\n",
              "      <td>HAM_0006211</td>\n",
              "      <td>ISIC_0025519</td>\n",
              "      <td>Benign keratosis-like lesions (bkl)</td>\n",
              "      <td>histo</td>\n",
              "      <td>50</td>\n",
              "      <td>male</td>\n",
              "      <td>neck</td>\n",
              "      <td>2</td>\n",
              "    </tr>\n",
              "    <tr>\n",
              "      <th>8513</th>\n",
              "      <td>HAM_0000129</td>\n",
              "      <td>ISIC_0027486</td>\n",
              "      <td>Melanocytic nevi (nv)</td>\n",
              "      <td>histo</td>\n",
              "      <td>40</td>\n",
              "      <td>female</td>\n",
              "      <td>back</td>\n",
              "      <td>0</td>\n",
              "    </tr>\n",
              "    <tr>\n",
              "      <th>264</th>\n",
              "      <td>HAM_0004406</td>\n",
              "      <td>ISIC_0034125</td>\n",
              "      <td>Benign keratosis-like lesions (bkl)</td>\n",
              "      <td>histo</td>\n",
              "      <td>80</td>\n",
              "      <td>male</td>\n",
              "      <td>back</td>\n",
              "      <td>2</td>\n",
              "    </tr>\n",
              "    <tr>\n",
              "      <th>9206</th>\n",
              "      <td>HAM_0005250</td>\n",
              "      <td>ISIC_0029792</td>\n",
              "      <td>Melanocytic nevi (nv)</td>\n",
              "      <td>histo</td>\n",
              "      <td>40</td>\n",
              "      <td>female</td>\n",
              "      <td>foot</td>\n",
              "      <td>0</td>\n",
              "    </tr>\n",
              "  </tbody>\n",
              "</table>\n",
              "</div>\n",
              "    <div class=\"colab-df-buttons\">\n",
              "\n",
              "  <div class=\"colab-df-container\">\n",
              "    <button class=\"colab-df-convert\" onclick=\"convertToInteractive('df-96cda5fa-8063-4967-8272-87d20b4e630a')\"\n",
              "            title=\"Convert this dataframe to an interactive table.\"\n",
              "            style=\"display:none;\">\n",
              "\n",
              "  <svg xmlns=\"http://www.w3.org/2000/svg\" height=\"24px\" viewBox=\"0 -960 960 960\">\n",
              "    <path d=\"M120-120v-720h720v720H120Zm60-500h600v-160H180v160Zm220 220h160v-160H400v160Zm0 220h160v-160H400v160ZM180-400h160v-160H180v160Zm440 0h160v-160H620v160ZM180-180h160v-160H180v160Zm440 0h160v-160H620v160Z\"/>\n",
              "  </svg>\n",
              "    </button>\n",
              "\n",
              "  <style>\n",
              "    .colab-df-container {\n",
              "      display:flex;\n",
              "      gap: 12px;\n",
              "    }\n",
              "\n",
              "    .colab-df-convert {\n",
              "      background-color: #E8F0FE;\n",
              "      border: none;\n",
              "      border-radius: 50%;\n",
              "      cursor: pointer;\n",
              "      display: none;\n",
              "      fill: #1967D2;\n",
              "      height: 32px;\n",
              "      padding: 0 0 0 0;\n",
              "      width: 32px;\n",
              "    }\n",
              "\n",
              "    .colab-df-convert:hover {\n",
              "      background-color: #E2EBFA;\n",
              "      box-shadow: 0px 1px 2px rgba(60, 64, 67, 0.3), 0px 1px 3px 1px rgba(60, 64, 67, 0.15);\n",
              "      fill: #174EA6;\n",
              "    }\n",
              "\n",
              "    .colab-df-buttons div {\n",
              "      margin-bottom: 4px;\n",
              "    }\n",
              "\n",
              "    [theme=dark] .colab-df-convert {\n",
              "      background-color: #3B4455;\n",
              "      fill: #D2E3FC;\n",
              "    }\n",
              "\n",
              "    [theme=dark] .colab-df-convert:hover {\n",
              "      background-color: #434B5C;\n",
              "      box-shadow: 0px 1px 3px 1px rgba(0, 0, 0, 0.15);\n",
              "      filter: drop-shadow(0px 1px 2px rgba(0, 0, 0, 0.3));\n",
              "      fill: #FFFFFF;\n",
              "    }\n",
              "  </style>\n",
              "\n",
              "    <script>\n",
              "      const buttonEl =\n",
              "        document.querySelector('#df-96cda5fa-8063-4967-8272-87d20b4e630a button.colab-df-convert');\n",
              "      buttonEl.style.display =\n",
              "        google.colab.kernel.accessAllowed ? 'block' : 'none';\n",
              "\n",
              "      async function convertToInteractive(key) {\n",
              "        const element = document.querySelector('#df-96cda5fa-8063-4967-8272-87d20b4e630a');\n",
              "        const dataTable =\n",
              "          await google.colab.kernel.invokeFunction('convertToInteractive',\n",
              "                                                    [key], {});\n",
              "        if (!dataTable) return;\n",
              "\n",
              "        const docLinkHtml = 'Like what you see? Visit the ' +\n",
              "          '<a target=\"_blank\" href=https://colab.research.google.com/notebooks/data_table.ipynb>data table notebook</a>'\n",
              "          + ' to learn more about interactive tables.';\n",
              "        element.innerHTML = '';\n",
              "        dataTable['output_type'] = 'display_data';\n",
              "        await google.colab.output.renderOutput(dataTable, element);\n",
              "        const docLink = document.createElement('div');\n",
              "        docLink.innerHTML = docLinkHtml;\n",
              "        element.appendChild(docLink);\n",
              "      }\n",
              "    </script>\n",
              "  </div>\n",
              "\n",
              "\n",
              "    <div id=\"df-1ff43760-b714-42e4-bbb7-2d544361a2e1\">\n",
              "      <button class=\"colab-df-quickchart\" onclick=\"quickchart('df-1ff43760-b714-42e4-bbb7-2d544361a2e1')\"\n",
              "                title=\"Suggest charts\"\n",
              "                style=\"display:none;\">\n",
              "\n",
              "<svg xmlns=\"http://www.w3.org/2000/svg\" height=\"24px\"viewBox=\"0 0 24 24\"\n",
              "     width=\"24px\">\n",
              "    <g>\n",
              "        <path d=\"M19 3H5c-1.1 0-2 .9-2 2v14c0 1.1.9 2 2 2h14c1.1 0 2-.9 2-2V5c0-1.1-.9-2-2-2zM9 17H7v-7h2v7zm4 0h-2V7h2v10zm4 0h-2v-4h2v4z\"/>\n",
              "    </g>\n",
              "</svg>\n",
              "      </button>\n",
              "\n",
              "<style>\n",
              "  .colab-df-quickchart {\n",
              "      --bg-color: #E8F0FE;\n",
              "      --fill-color: #1967D2;\n",
              "      --hover-bg-color: #E2EBFA;\n",
              "      --hover-fill-color: #174EA6;\n",
              "      --disabled-fill-color: #AAA;\n",
              "      --disabled-bg-color: #DDD;\n",
              "  }\n",
              "\n",
              "  [theme=dark] .colab-df-quickchart {\n",
              "      --bg-color: #3B4455;\n",
              "      --fill-color: #D2E3FC;\n",
              "      --hover-bg-color: #434B5C;\n",
              "      --hover-fill-color: #FFFFFF;\n",
              "      --disabled-bg-color: #3B4455;\n",
              "      --disabled-fill-color: #666;\n",
              "  }\n",
              "\n",
              "  .colab-df-quickchart {\n",
              "    background-color: var(--bg-color);\n",
              "    border: none;\n",
              "    border-radius: 50%;\n",
              "    cursor: pointer;\n",
              "    display: none;\n",
              "    fill: var(--fill-color);\n",
              "    height: 32px;\n",
              "    padding: 0;\n",
              "    width: 32px;\n",
              "  }\n",
              "\n",
              "  .colab-df-quickchart:hover {\n",
              "    background-color: var(--hover-bg-color);\n",
              "    box-shadow: 0 1px 2px rgba(60, 64, 67, 0.3), 0 1px 3px 1px rgba(60, 64, 67, 0.15);\n",
              "    fill: var(--button-hover-fill-color);\n",
              "  }\n",
              "\n",
              "  .colab-df-quickchart-complete:disabled,\n",
              "  .colab-df-quickchart-complete:disabled:hover {\n",
              "    background-color: var(--disabled-bg-color);\n",
              "    fill: var(--disabled-fill-color);\n",
              "    box-shadow: none;\n",
              "  }\n",
              "\n",
              "  .colab-df-spinner {\n",
              "    border: 2px solid var(--fill-color);\n",
              "    border-color: transparent;\n",
              "    border-bottom-color: var(--fill-color);\n",
              "    animation:\n",
              "      spin 1s steps(1) infinite;\n",
              "  }\n",
              "\n",
              "  @keyframes spin {\n",
              "    0% {\n",
              "      border-color: transparent;\n",
              "      border-bottom-color: var(--fill-color);\n",
              "      border-left-color: var(--fill-color);\n",
              "    }\n",
              "    20% {\n",
              "      border-color: transparent;\n",
              "      border-left-color: var(--fill-color);\n",
              "      border-top-color: var(--fill-color);\n",
              "    }\n",
              "    30% {\n",
              "      border-color: transparent;\n",
              "      border-left-color: var(--fill-color);\n",
              "      border-top-color: var(--fill-color);\n",
              "      border-right-color: var(--fill-color);\n",
              "    }\n",
              "    40% {\n",
              "      border-color: transparent;\n",
              "      border-right-color: var(--fill-color);\n",
              "      border-top-color: var(--fill-color);\n",
              "    }\n",
              "    60% {\n",
              "      border-color: transparent;\n",
              "      border-right-color: var(--fill-color);\n",
              "    }\n",
              "    80% {\n",
              "      border-color: transparent;\n",
              "      border-right-color: var(--fill-color);\n",
              "      border-bottom-color: var(--fill-color);\n",
              "    }\n",
              "    90% {\n",
              "      border-color: transparent;\n",
              "      border-bottom-color: var(--fill-color);\n",
              "    }\n",
              "  }\n",
              "</style>\n",
              "\n",
              "      <script>\n",
              "        async function quickchart(key) {\n",
              "          const quickchartButtonEl =\n",
              "            document.querySelector('#' + key + ' button');\n",
              "          quickchartButtonEl.disabled = true;  // To prevent multiple clicks.\n",
              "          quickchartButtonEl.classList.add('colab-df-spinner');\n",
              "          try {\n",
              "            const charts = await google.colab.kernel.invokeFunction(\n",
              "                'suggestCharts', [key], {});\n",
              "          } catch (error) {\n",
              "            console.error('Error during call to suggestCharts:', error);\n",
              "          }\n",
              "          quickchartButtonEl.classList.remove('colab-df-spinner');\n",
              "          quickchartButtonEl.classList.add('colab-df-quickchart-complete');\n",
              "        }\n",
              "        (() => {\n",
              "          let quickchartButtonEl =\n",
              "            document.querySelector('#df-1ff43760-b714-42e4-bbb7-2d544361a2e1 button');\n",
              "          quickchartButtonEl.style.display =\n",
              "            google.colab.kernel.accessAllowed ? 'block' : 'none';\n",
              "        })();\n",
              "      </script>\n",
              "    </div>\n",
              "\n",
              "    </div>\n",
              "  </div>\n"
            ],
            "application/vnd.google.colaboratory.intrinsic+json": {
              "type": "dataframe",
              "summary": "{\n  \"name\": \"metadata\",\n  \"rows\": 5,\n  \"fields\": [\n    {\n      \"column\": \"Lesion_ID\",\n      \"properties\": {\n        \"dtype\": \"string\",\n        \"num_unique_values\": 5,\n        \"samples\": [\n          \"HAM_0006211\",\n          \"HAM_0005250\",\n          \"HAM_0000129\"\n        ],\n        \"semantic_type\": \"\",\n        \"description\": \"\"\n      }\n    },\n    {\n      \"column\": \"Image_ID\",\n      \"properties\": {\n        \"dtype\": \"string\",\n        \"num_unique_values\": 5,\n        \"samples\": [\n          \"ISIC_0025519\",\n          \"ISIC_0029792\",\n          \"ISIC_0027486\"\n        ],\n        \"semantic_type\": \"\",\n        \"description\": \"\"\n      }\n    },\n    {\n      \"column\": \"Diagnosis\",\n      \"properties\": {\n        \"dtype\": \"category\",\n        \"num_unique_values\": 2,\n        \"samples\": [\n          \"Benign keratosis-like lesions (bkl)\",\n          \"Melanocytic nevi (nv)\"\n        ],\n        \"semantic_type\": \"\",\n        \"description\": \"\"\n      }\n    },\n    {\n      \"column\": \"Diagnosis_Type\",\n      \"properties\": {\n        \"dtype\": \"category\",\n        \"num_unique_values\": 1,\n        \"samples\": [\n          \"histo\"\n        ],\n        \"semantic_type\": \"\",\n        \"description\": \"\"\n      }\n    },\n    {\n      \"column\": \"Age\",\n      \"properties\": {\n        \"dtype\": \"int32\",\n        \"num_unique_values\": 4,\n        \"samples\": [\n          50\n        ],\n        \"semantic_type\": \"\",\n        \"description\": \"\"\n      }\n    },\n    {\n      \"column\": \"Sex\",\n      \"properties\": {\n        \"dtype\": \"category\",\n        \"num_unique_values\": 2,\n        \"samples\": [\n          \"female\"\n        ],\n        \"semantic_type\": \"\",\n        \"description\": \"\"\n      }\n    },\n    {\n      \"column\": \"Localization\",\n      \"properties\": {\n        \"dtype\": \"string\",\n        \"num_unique_values\": 4,\n        \"samples\": [\n          \"neck\"\n        ],\n        \"semantic_type\": \"\",\n        \"description\": \"\"\n      }\n    },\n    {\n      \"column\": \"label\",\n      \"properties\": {\n        \"dtype\": \"number\",\n        \"std\": 1,\n        \"min\": 0,\n        \"max\": 2,\n        \"num_unique_values\": 2,\n        \"samples\": [\n          2\n        ],\n        \"semantic_type\": \"\",\n        \"description\": \"\"\n      }\n    }\n  ]\n}"
            }
          },
          "metadata": {},
          "execution_count": 60
        }
      ]
    },
    {
      "cell_type": "code",
      "source": [
        "# Handling null values\n",
        "metadata['Age'].fillna(value=int(metadata['Age'].mean()), inplace=True)\n",
        "# Converting dtype of age to int32\n",
        "metadata['Age'] = metadata['Age'].astype('int32')\n",
        "# Categorically encoding label of the images\n",
        "metadata.sample(5)"
      ],
      "metadata": {
        "colab": {
          "base_uri": "https://localhost:8080/",
          "height": 347
        },
        "id": "71jkwsaHMdzf",
        "outputId": "e57e021a-7175-4b28-f556-e3f4ad529485"
      },
      "execution_count": null,
      "outputs": [
        {
          "output_type": "stream",
          "name": "stderr",
          "text": [
            "/tmp/ipython-input-3540768875.py:2: FutureWarning: A value is trying to be set on a copy of a DataFrame or Series through chained assignment using an inplace method.\n",
            "The behavior will change in pandas 3.0. This inplace method will never work because the intermediate object on which we are setting values always behaves as a copy.\n",
            "\n",
            "For example, when doing 'df[col].method(value, inplace=True)', try using 'df.method({col: value}, inplace=True)' or df[col] = df[col].method(value) instead, to perform the operation inplace on the original object.\n",
            "\n",
            "\n",
            "  metadata['Age'].fillna(value=int(metadata['Age'].mean()), inplace=True)\n"
          ]
        },
        {
          "output_type": "execute_result",
          "data": {
            "text/plain": [
              "        Lesion_ID      Image_ID                            Diagnosis  \\\n",
              "8414  HAM_0005614  ISIC_0030397                Melanocytic nevi (nv)   \n",
              "2140  HAM_0000136  ISIC_0028065                       Melanoma (mel)   \n",
              "1018  HAM_0003287  ISIC_0026846  Benign keratosis-like lesions (bkl)   \n",
              "2921  HAM_0001237  ISIC_0029680           Basal cell carcinoma (bcc)   \n",
              "9076  HAM_0003125  ISIC_0025477                Melanocytic nevi (nv)   \n",
              "\n",
              "     Diagnosis_Type  Age     Sex     Localization  label  \n",
              "8414          histo   35  female            trunk      0  \n",
              "2140          histo   60    male             back      1  \n",
              "1018      consensus   80    male  upper extremity      2  \n",
              "2921          histo   70    male  lower extremity      3  \n",
              "9076          histo   55    male            chest      0  "
            ],
            "text/html": [
              "\n",
              "  <div id=\"df-8f303b07-9e5a-4882-89ae-9d5f83da1947\" class=\"colab-df-container\">\n",
              "    <div>\n",
              "<style scoped>\n",
              "    .dataframe tbody tr th:only-of-type {\n",
              "        vertical-align: middle;\n",
              "    }\n",
              "\n",
              "    .dataframe tbody tr th {\n",
              "        vertical-align: top;\n",
              "    }\n",
              "\n",
              "    .dataframe thead th {\n",
              "        text-align: right;\n",
              "    }\n",
              "</style>\n",
              "<table border=\"1\" class=\"dataframe\">\n",
              "  <thead>\n",
              "    <tr style=\"text-align: right;\">\n",
              "      <th></th>\n",
              "      <th>Lesion_ID</th>\n",
              "      <th>Image_ID</th>\n",
              "      <th>Diagnosis</th>\n",
              "      <th>Diagnosis_Type</th>\n",
              "      <th>Age</th>\n",
              "      <th>Sex</th>\n",
              "      <th>Localization</th>\n",
              "      <th>label</th>\n",
              "    </tr>\n",
              "  </thead>\n",
              "  <tbody>\n",
              "    <tr>\n",
              "      <th>8414</th>\n",
              "      <td>HAM_0005614</td>\n",
              "      <td>ISIC_0030397</td>\n",
              "      <td>Melanocytic nevi (nv)</td>\n",
              "      <td>histo</td>\n",
              "      <td>35</td>\n",
              "      <td>female</td>\n",
              "      <td>trunk</td>\n",
              "      <td>0</td>\n",
              "    </tr>\n",
              "    <tr>\n",
              "      <th>2140</th>\n",
              "      <td>HAM_0000136</td>\n",
              "      <td>ISIC_0028065</td>\n",
              "      <td>Melanoma (mel)</td>\n",
              "      <td>histo</td>\n",
              "      <td>60</td>\n",
              "      <td>male</td>\n",
              "      <td>back</td>\n",
              "      <td>1</td>\n",
              "    </tr>\n",
              "    <tr>\n",
              "      <th>1018</th>\n",
              "      <td>HAM_0003287</td>\n",
              "      <td>ISIC_0026846</td>\n",
              "      <td>Benign keratosis-like lesions (bkl)</td>\n",
              "      <td>consensus</td>\n",
              "      <td>80</td>\n",
              "      <td>male</td>\n",
              "      <td>upper extremity</td>\n",
              "      <td>2</td>\n",
              "    </tr>\n",
              "    <tr>\n",
              "      <th>2921</th>\n",
              "      <td>HAM_0001237</td>\n",
              "      <td>ISIC_0029680</td>\n",
              "      <td>Basal cell carcinoma (bcc)</td>\n",
              "      <td>histo</td>\n",
              "      <td>70</td>\n",
              "      <td>male</td>\n",
              "      <td>lower extremity</td>\n",
              "      <td>3</td>\n",
              "    </tr>\n",
              "    <tr>\n",
              "      <th>9076</th>\n",
              "      <td>HAM_0003125</td>\n",
              "      <td>ISIC_0025477</td>\n",
              "      <td>Melanocytic nevi (nv)</td>\n",
              "      <td>histo</td>\n",
              "      <td>55</td>\n",
              "      <td>male</td>\n",
              "      <td>chest</td>\n",
              "      <td>0</td>\n",
              "    </tr>\n",
              "  </tbody>\n",
              "</table>\n",
              "</div>\n",
              "    <div class=\"colab-df-buttons\">\n",
              "\n",
              "  <div class=\"colab-df-container\">\n",
              "    <button class=\"colab-df-convert\" onclick=\"convertToInteractive('df-8f303b07-9e5a-4882-89ae-9d5f83da1947')\"\n",
              "            title=\"Convert this dataframe to an interactive table.\"\n",
              "            style=\"display:none;\">\n",
              "\n",
              "  <svg xmlns=\"http://www.w3.org/2000/svg\" height=\"24px\" viewBox=\"0 -960 960 960\">\n",
              "    <path d=\"M120-120v-720h720v720H120Zm60-500h600v-160H180v160Zm220 220h160v-160H400v160Zm0 220h160v-160H400v160ZM180-400h160v-160H180v160Zm440 0h160v-160H620v160ZM180-180h160v-160H180v160Zm440 0h160v-160H620v160Z\"/>\n",
              "  </svg>\n",
              "    </button>\n",
              "\n",
              "  <style>\n",
              "    .colab-df-container {\n",
              "      display:flex;\n",
              "      gap: 12px;\n",
              "    }\n",
              "\n",
              "    .colab-df-convert {\n",
              "      background-color: #E8F0FE;\n",
              "      border: none;\n",
              "      border-radius: 50%;\n",
              "      cursor: pointer;\n",
              "      display: none;\n",
              "      fill: #1967D2;\n",
              "      height: 32px;\n",
              "      padding: 0 0 0 0;\n",
              "      width: 32px;\n",
              "    }\n",
              "\n",
              "    .colab-df-convert:hover {\n",
              "      background-color: #E2EBFA;\n",
              "      box-shadow: 0px 1px 2px rgba(60, 64, 67, 0.3), 0px 1px 3px 1px rgba(60, 64, 67, 0.15);\n",
              "      fill: #174EA6;\n",
              "    }\n",
              "\n",
              "    .colab-df-buttons div {\n",
              "      margin-bottom: 4px;\n",
              "    }\n",
              "\n",
              "    [theme=dark] .colab-df-convert {\n",
              "      background-color: #3B4455;\n",
              "      fill: #D2E3FC;\n",
              "    }\n",
              "\n",
              "    [theme=dark] .colab-df-convert:hover {\n",
              "      background-color: #434B5C;\n",
              "      box-shadow: 0px 1px 3px 1px rgba(0, 0, 0, 0.15);\n",
              "      filter: drop-shadow(0px 1px 2px rgba(0, 0, 0, 0.3));\n",
              "      fill: #FFFFFF;\n",
              "    }\n",
              "  </style>\n",
              "\n",
              "    <script>\n",
              "      const buttonEl =\n",
              "        document.querySelector('#df-8f303b07-9e5a-4882-89ae-9d5f83da1947 button.colab-df-convert');\n",
              "      buttonEl.style.display =\n",
              "        google.colab.kernel.accessAllowed ? 'block' : 'none';\n",
              "\n",
              "      async function convertToInteractive(key) {\n",
              "        const element = document.querySelector('#df-8f303b07-9e5a-4882-89ae-9d5f83da1947');\n",
              "        const dataTable =\n",
              "          await google.colab.kernel.invokeFunction('convertToInteractive',\n",
              "                                                    [key], {});\n",
              "        if (!dataTable) return;\n",
              "\n",
              "        const docLinkHtml = 'Like what you see? Visit the ' +\n",
              "          '<a target=\"_blank\" href=https://colab.research.google.com/notebooks/data_table.ipynb>data table notebook</a>'\n",
              "          + ' to learn more about interactive tables.';\n",
              "        element.innerHTML = '';\n",
              "        dataTable['output_type'] = 'display_data';\n",
              "        await google.colab.output.renderOutput(dataTable, element);\n",
              "        const docLink = document.createElement('div');\n",
              "        docLink.innerHTML = docLinkHtml;\n",
              "        element.appendChild(docLink);\n",
              "      }\n",
              "    </script>\n",
              "  </div>\n",
              "\n",
              "\n",
              "    <div id=\"df-716833d5-d99f-457f-9fa7-964b1493cb0c\">\n",
              "      <button class=\"colab-df-quickchart\" onclick=\"quickchart('df-716833d5-d99f-457f-9fa7-964b1493cb0c')\"\n",
              "                title=\"Suggest charts\"\n",
              "                style=\"display:none;\">\n",
              "\n",
              "<svg xmlns=\"http://www.w3.org/2000/svg\" height=\"24px\"viewBox=\"0 0 24 24\"\n",
              "     width=\"24px\">\n",
              "    <g>\n",
              "        <path d=\"M19 3H5c-1.1 0-2 .9-2 2v14c0 1.1.9 2 2 2h14c1.1 0 2-.9 2-2V5c0-1.1-.9-2-2-2zM9 17H7v-7h2v7zm4 0h-2V7h2v10zm4 0h-2v-4h2v4z\"/>\n",
              "    </g>\n",
              "</svg>\n",
              "      </button>\n",
              "\n",
              "<style>\n",
              "  .colab-df-quickchart {\n",
              "      --bg-color: #E8F0FE;\n",
              "      --fill-color: #1967D2;\n",
              "      --hover-bg-color: #E2EBFA;\n",
              "      --hover-fill-color: #174EA6;\n",
              "      --disabled-fill-color: #AAA;\n",
              "      --disabled-bg-color: #DDD;\n",
              "  }\n",
              "\n",
              "  [theme=dark] .colab-df-quickchart {\n",
              "      --bg-color: #3B4455;\n",
              "      --fill-color: #D2E3FC;\n",
              "      --hover-bg-color: #434B5C;\n",
              "      --hover-fill-color: #FFFFFF;\n",
              "      --disabled-bg-color: #3B4455;\n",
              "      --disabled-fill-color: #666;\n",
              "  }\n",
              "\n",
              "  .colab-df-quickchart {\n",
              "    background-color: var(--bg-color);\n",
              "    border: none;\n",
              "    border-radius: 50%;\n",
              "    cursor: pointer;\n",
              "    display: none;\n",
              "    fill: var(--fill-color);\n",
              "    height: 32px;\n",
              "    padding: 0;\n",
              "    width: 32px;\n",
              "  }\n",
              "\n",
              "  .colab-df-quickchart:hover {\n",
              "    background-color: var(--hover-bg-color);\n",
              "    box-shadow: 0 1px 2px rgba(60, 64, 67, 0.3), 0 1px 3px 1px rgba(60, 64, 67, 0.15);\n",
              "    fill: var(--button-hover-fill-color);\n",
              "  }\n",
              "\n",
              "  .colab-df-quickchart-complete:disabled,\n",
              "  .colab-df-quickchart-complete:disabled:hover {\n",
              "    background-color: var(--disabled-bg-color);\n",
              "    fill: var(--disabled-fill-color);\n",
              "    box-shadow: none;\n",
              "  }\n",
              "\n",
              "  .colab-df-spinner {\n",
              "    border: 2px solid var(--fill-color);\n",
              "    border-color: transparent;\n",
              "    border-bottom-color: var(--fill-color);\n",
              "    animation:\n",
              "      spin 1s steps(1) infinite;\n",
              "  }\n",
              "\n",
              "  @keyframes spin {\n",
              "    0% {\n",
              "      border-color: transparent;\n",
              "      border-bottom-color: var(--fill-color);\n",
              "      border-left-color: var(--fill-color);\n",
              "    }\n",
              "    20% {\n",
              "      border-color: transparent;\n",
              "      border-left-color: var(--fill-color);\n",
              "      border-top-color: var(--fill-color);\n",
              "    }\n",
              "    30% {\n",
              "      border-color: transparent;\n",
              "      border-left-color: var(--fill-color);\n",
              "      border-top-color: var(--fill-color);\n",
              "      border-right-color: var(--fill-color);\n",
              "    }\n",
              "    40% {\n",
              "      border-color: transparent;\n",
              "      border-right-color: var(--fill-color);\n",
              "      border-top-color: var(--fill-color);\n",
              "    }\n",
              "    60% {\n",
              "      border-color: transparent;\n",
              "      border-right-color: var(--fill-color);\n",
              "    }\n",
              "    80% {\n",
              "      border-color: transparent;\n",
              "      border-right-color: var(--fill-color);\n",
              "      border-bottom-color: var(--fill-color);\n",
              "    }\n",
              "    90% {\n",
              "      border-color: transparent;\n",
              "      border-bottom-color: var(--fill-color);\n",
              "    }\n",
              "  }\n",
              "</style>\n",
              "\n",
              "      <script>\n",
              "        async function quickchart(key) {\n",
              "          const quickchartButtonEl =\n",
              "            document.querySelector('#' + key + ' button');\n",
              "          quickchartButtonEl.disabled = true;  // To prevent multiple clicks.\n",
              "          quickchartButtonEl.classList.add('colab-df-spinner');\n",
              "          try {\n",
              "            const charts = await google.colab.kernel.invokeFunction(\n",
              "                'suggestCharts', [key], {});\n",
              "          } catch (error) {\n",
              "            console.error('Error during call to suggestCharts:', error);\n",
              "          }\n",
              "          quickchartButtonEl.classList.remove('colab-df-spinner');\n",
              "          quickchartButtonEl.classList.add('colab-df-quickchart-complete');\n",
              "        }\n",
              "        (() => {\n",
              "          let quickchartButtonEl =\n",
              "            document.querySelector('#df-716833d5-d99f-457f-9fa7-964b1493cb0c button');\n",
              "          quickchartButtonEl.style.display =\n",
              "            google.colab.kernel.accessAllowed ? 'block' : 'none';\n",
              "        })();\n",
              "      </script>\n",
              "    </div>\n",
              "\n",
              "    </div>\n",
              "  </div>\n"
            ],
            "application/vnd.google.colaboratory.intrinsic+json": {
              "type": "dataframe",
              "summary": "{\n  \"name\": \"metadata\",\n  \"rows\": 5,\n  \"fields\": [\n    {\n      \"column\": \"Lesion_ID\",\n      \"properties\": {\n        \"dtype\": \"string\",\n        \"num_unique_values\": 5,\n        \"samples\": [\n          \"HAM_0000136\",\n          \"HAM_0003125\",\n          \"HAM_0003287\"\n        ],\n        \"semantic_type\": \"\",\n        \"description\": \"\"\n      }\n    },\n    {\n      \"column\": \"Image_ID\",\n      \"properties\": {\n        \"dtype\": \"string\",\n        \"num_unique_values\": 5,\n        \"samples\": [\n          \"ISIC_0028065\",\n          \"ISIC_0025477\",\n          \"ISIC_0026846\"\n        ],\n        \"semantic_type\": \"\",\n        \"description\": \"\"\n      }\n    },\n    {\n      \"column\": \"Diagnosis\",\n      \"properties\": {\n        \"dtype\": \"string\",\n        \"num_unique_values\": 4,\n        \"samples\": [\n          \"Melanoma (mel)\",\n          \"Basal cell carcinoma (bcc)\",\n          \"Melanocytic nevi (nv)\"\n        ],\n        \"semantic_type\": \"\",\n        \"description\": \"\"\n      }\n    },\n    {\n      \"column\": \"Diagnosis_Type\",\n      \"properties\": {\n        \"dtype\": \"category\",\n        \"num_unique_values\": 2,\n        \"samples\": [\n          \"consensus\",\n          \"histo\"\n        ],\n        \"semantic_type\": \"\",\n        \"description\": \"\"\n      }\n    },\n    {\n      \"column\": \"Age\",\n      \"properties\": {\n        \"dtype\": \"int32\",\n        \"num_unique_values\": 5,\n        \"samples\": [\n          60,\n          55\n        ],\n        \"semantic_type\": \"\",\n        \"description\": \"\"\n      }\n    },\n    {\n      \"column\": \"Sex\",\n      \"properties\": {\n        \"dtype\": \"category\",\n        \"num_unique_values\": 2,\n        \"samples\": [\n          \"male\",\n          \"female\"\n        ],\n        \"semantic_type\": \"\",\n        \"description\": \"\"\n      }\n    },\n    {\n      \"column\": \"Localization\",\n      \"properties\": {\n        \"dtype\": \"string\",\n        \"num_unique_values\": 5,\n        \"samples\": [\n          \"back\",\n          \"chest\"\n        ],\n        \"semantic_type\": \"\",\n        \"description\": \"\"\n      }\n    },\n    {\n      \"column\": \"label\",\n      \"properties\": {\n        \"dtype\": \"number\",\n        \"std\": 1,\n        \"min\": 0,\n        \"max\": 3,\n        \"num_unique_values\": 4,\n        \"samples\": [\n          1,\n          3\n        ],\n        \"semantic_type\": \"\",\n        \"description\": \"\"\n      }\n    }\n  ]\n}"
            }
          },
          "metadata": {},
          "execution_count": 61
        }
      ]
    },
    {
      "cell_type": "code",
      "source": [
        "metadata.info()"
      ],
      "metadata": {
        "colab": {
          "base_uri": "https://localhost:8080/"
        },
        "id": "Yn7-xShZPUNQ",
        "outputId": "0fa9df79-790f-4468-843c-873f20d955a9"
      },
      "execution_count": null,
      "outputs": [
        {
          "output_type": "stream",
          "name": "stdout",
          "text": [
            "<class 'pandas.core.frame.DataFrame'>\n",
            "RangeIndex: 10015 entries, 0 to 10014\n",
            "Data columns (total 8 columns):\n",
            " #   Column          Non-Null Count  Dtype \n",
            "---  ------          --------------  ----- \n",
            " 0   Lesion_ID       10015 non-null  object\n",
            " 1   Image_ID        10015 non-null  object\n",
            " 2   Diagnosis       10015 non-null  object\n",
            " 3   Diagnosis_Type  10015 non-null  object\n",
            " 4   Age             10015 non-null  int32 \n",
            " 5   Sex             10015 non-null  object\n",
            " 6   Localization    10015 non-null  object\n",
            " 7   label           10015 non-null  int64 \n",
            "dtypes: int32(1), int64(1), object(6)\n",
            "memory usage: 586.9+ KB\n"
          ]
        }
      ]
    },
    {
      "cell_type": "code",
      "source": [
        "print(metadata.head())\n",
        "\n",
        "print(\"\\nDiagnosis Counts:\")\n",
        "print(metadata['Diagnosis'].value_counts())\n",
        "\n",
        "import matplotlib.pyplot as plt\n",
        "metadata['Diagnosis'].value_counts().plot(kind='bar')\n",
        "plt.title(\"Distribution of Skin Lesion Types\")\n",
        "plt.xlabel(\"Diagnosis\")\n",
        "plt.ylabel(\"Count\")\n",
        "plt.show()\n"
      ],
      "metadata": {
        "colab": {
          "base_uri": "https://localhost:8080/",
          "height": 1000
        },
        "id": "TDdhI6ULgoqx",
        "outputId": "16bc9d15-b8e2-45c9-92a2-c803b012695a"
      },
      "execution_count": null,
      "outputs": [
        {
          "output_type": "stream",
          "name": "stdout",
          "text": [
            "     Lesion_ID      Image_ID                            Diagnosis  \\\n",
            "0  HAM_0000118  ISIC_0027419  Benign keratosis-like lesions (bkl)   \n",
            "1  HAM_0000118  ISIC_0025030  Benign keratosis-like lesions (bkl)   \n",
            "2  HAM_0002730  ISIC_0026769  Benign keratosis-like lesions (bkl)   \n",
            "3  HAM_0002730  ISIC_0025661  Benign keratosis-like lesions (bkl)   \n",
            "4  HAM_0001466  ISIC_0031633  Benign keratosis-like lesions (bkl)   \n",
            "\n",
            "  Diagnosis_Type  Age   Sex Localization  label  \n",
            "0          histo   80  male        scalp      2  \n",
            "1          histo   80  male        scalp      2  \n",
            "2          histo   80  male        scalp      2  \n",
            "3          histo   80  male        scalp      2  \n",
            "4          histo   75  male          ear      2  \n",
            "\n",
            "Diagnosis Counts:\n",
            "Diagnosis\n",
            "Melanocytic nevi (nv)                  6705\n",
            "Melanoma (mel)                         1113\n",
            "Benign keratosis-like lesions (bkl)    1099\n",
            "Basal cell carcinoma (bcc)              514\n",
            "Actinic keratoses (akiec)               327\n",
            "Vascular lesions (vasc)                 142\n",
            "Dermatofibroma (df)                     115\n",
            "Name: count, dtype: int64\n"
          ]
        },
        {
          "output_type": "display_data",
          "data": {
            "text/plain": [
              "<Figure size 640x480 with 1 Axes>"
            ],
            "image/png": "[encoded data removed]"
          },
          "metadata": {}
        }
      ]
    },
    {
      "cell_type": "markdown",
      "source": [
        "## Step 2 — Handling Class Imbalance\n",
        "\n",
        "- The HAM10000 dataset is naturally imbalanced.\n",
        "- Rare classes are **oversampled** by duplicating rows to balance the training set.\n",
        "- Class distributions are visualized before and after balancing."
      ],
      "metadata": {
        "id": "CimBxSqkRyph"
      }
    },
    {
      "cell_type": "code",
      "source": [
        "df_label1 = metadata[metadata['label'] == 1]\n",
        "df_label2 = metadata[metadata['label'] == 2]\n",
        "df_label3 = metadata[metadata['label'] == 3]\n",
        "df_label4 = metadata[metadata['label'] == 4]\n",
        "df_label5 = metadata[metadata['label'] == 5]\n",
        "df_label6 = metadata[metadata['label'] == 6]"
      ],
      "metadata": {
        "id": "AcrQo1KhRQV0"
      },
      "execution_count": null,
      "outputs": []
    },
    {
      "cell_type": "code",
      "source": [
        "df_label1_ovs = pd.concat([df_label1] * 5, ignore_index=True)\n",
        "df_label2_ovs = pd.concat([df_label2] * 5, ignore_index=True)\n",
        "df_label3_ovs = pd.concat([df_label3] * 12, ignore_index=True)\n",
        "df_label4_ovs = pd.concat([df_label4] * 19, ignore_index=True)\n",
        "df_label5_ovs = pd.concat([df_label5] * 46, ignore_index=True)\n",
        "df_label6_ovs = pd.concat([df_label6] * 57, ignore_index=True)"
      ],
      "metadata": {
        "id": "FRxkcce3QaNJ"
      },
      "execution_count": null,
      "outputs": []
    },
    {
      "cell_type": "code",
      "source": [
        "final_metadata = pd.concat([metadata,\n",
        "                        df_label1_ovs,\n",
        "                        df_label2_ovs,\n",
        "                        df_label3_ovs,\n",
        "                        df_label4_ovs,\n",
        "                        df_label5_ovs,\n",
        "                        df_label6_ovs], ignore_index=True)"
      ],
      "metadata": {
        "id": "LcdclHNQSZv5"
      },
      "execution_count": null,
      "outputs": []
    },
    {
      "cell_type": "code",
      "source": [
        "print(final_metadata.head())\n",
        "\n",
        "print(\"\\nDiagnosis Counts:\")\n",
        "print(final_metadata['Diagnosis'].value_counts())\n",
        "\n",
        "import matplotlib.pyplot as plt\n",
        "final_metadata['Diagnosis'].value_counts().plot(kind='bar')\n",
        "plt.title(\"Distribution of Skin Lesion Types\")\n",
        "plt.xlabel(\"Diagnosis\")\n",
        "plt.ylabel(\"Count\")\n",
        "plt.show()"
      ],
      "metadata": {
        "colab": {
          "base_uri": "https://localhost:8080/",
          "height": 1000
        },
        "id": "X-wJ6J3gSkIk",
        "outputId": "5eebb03c-8682-467b-8d13-921829a4a8c9"
      },
      "execution_count": null,
      "outputs": [
        {
          "output_type": "stream",
          "name": "stdout",
          "text": [
            "     Lesion_ID      Image_ID                            Diagnosis  \\\n",
            "0  HAM_0000118  ISIC_0027419  Benign keratosis-like lesions (bkl)   \n",
            "1  HAM_0000118  ISIC_0025030  Benign keratosis-like lesions (bkl)   \n",
            "2  HAM_0002730  ISIC_0026769  Benign keratosis-like lesions (bkl)   \n",
            "3  HAM_0002730  ISIC_0025661  Benign keratosis-like lesions (bkl)   \n",
            "4  HAM_0001466  ISIC_0031633  Benign keratosis-like lesions (bkl)   \n",
            "\n",
            "  Diagnosis_Type  Age   Sex Localization  label  \n",
            "0          histo   80  male        scalp      2  \n",
            "1          histo   80  male        scalp      2  \n",
            "2          histo   80  male        scalp      2  \n",
            "3          histo   80  male        scalp      2  \n",
            "4          histo   75  male          ear      2  \n",
            "\n",
            "Diagnosis Counts:\n",
            "Diagnosis\n",
            "Melanocytic nevi (nv)                  6705\n",
            "Basal cell carcinoma (bcc)             6682\n",
            "Melanoma (mel)                         6678\n",
            "Vascular lesions (vasc)                6674\n",
            "Dermatofibroma (df)                    6670\n",
            "Benign keratosis-like lesions (bkl)    6594\n",
            "Actinic keratoses (akiec)              6540\n",
            "Name: count, dtype: int64\n"
          ]
        },
        {
          "output_type": "display_data",
          "data": {
            "text/plain": [
              "<Figure size 640x480 with 1 Axes>"
            ],
            "image/png": "[encoded data removed]"
          },
          "metadata": {}
        }
      ]
    },
    {
      "cell_type": "markdown",
      "source": [
        "## Step 3 — Preparing Image Paths and Dataset Splits\n",
        "\n",
        "- A helper function locates images in the two dataset folders.\n",
        "- Add an `image_path` column to the metadata.\n",
        "- Split data into:\n",
        "  - **Training (64%)**\n",
        "  - **Validation (16%)**\n",
        "  - **Testing (20%)**\n",
        "- Stratified sampling ensures all sets keep the same label distribution.\n"
      ],
      "metadata": {
        "id": "4iKUAuM_SA5x"
      }
    },
    {
      "cell_type": "code",
      "source": [
        "import os\n",
        "\n",
        "image_dir1 = os.path.join(path, \"HAM10000_images_part_1\")\n",
        "image_dir2 = os.path.join(path, \"HAM10000_images_part_2\")\n",
        "\n",
        "def get_image_path(image_id):\n",
        "    if os.path.exists(os.path.join(image_dir1, image_id + \".jpg\")):\n",
        "        return os.path.join(image_dir1, image_id + \".jpg\")\n",
        "    else:\n",
        "        return os.path.join(image_dir2, image_id + \".jpg\")\n",
        "\n",
        "final_metadata['image_path'] = final_metadata['Image_ID'].apply(get_image_path)\n"
      ],
      "metadata": {
        "id": "HQsSdW05Zx_X"
      },
      "execution_count": null,
      "outputs": []
    },
    {
      "cell_type": "code",
      "source": [
        "from sklearn.model_selection import train_test_split\n",
        "\n",
        "train_df, test_df = train_test_split(final_metadata, test_size=0.2, stratify=final_metadata['label'], random_state=42)\n",
        "train_df, val_df = train_test_split(train_df, test_size=0.2, stratify=train_df['label'], random_state=42)\n"
      ],
      "metadata": {
        "id": "fhDJwbblZ2Ez"
      },
      "execution_count": null,
      "outputs": []
    },
    {
      "cell_type": "markdown",
      "source": [
        "## Step 4 — Image Data Generators\n",
        "\n",
        "- Use `ImageDataGenerator` to:\n",
        "  - Normalize all images to [0,1] range\n",
        "  - Apply data augmentation (rotation, shift, horizontal flip) on training images\n",
        "- Validation and test sets are only rescaled (no augmentation).\n",
        "- Input size is set to **224×224 pixels** for ResNet50."
      ],
      "metadata": {
        "id": "81AYoMslSRgE"
      }
    },
    {
      "cell_type": "code",
      "source": [
        "from tensorflow.keras.preprocessing.image import ImageDataGenerator\n",
        "\n",
        "IMG_SIZE = 224  # ResNet50 input size\n",
        "\n",
        "train_datagen = ImageDataGenerator(\n",
        "    rescale=1./255,\n",
        "    rotation_range=20,\n",
        "    width_shift_range=0.1,\n",
        "    height_shift_range=0.1,\n",
        "    horizontal_flip=True\n",
        ")\n",
        "\n",
        "val_datagen = ImageDataGenerator(rescale=1./255)\n",
        "test_datagen = ImageDataGenerator(rescale=1./255)\n",
        "\n",
        "train_generator = train_datagen.flow_from_dataframe(\n",
        "    train_df,\n",
        "    x_col='image_path',\n",
        "    y_col='Diagnosis',\n",
        "    target_size=(IMG_SIZE, IMG_SIZE),\n",
        "    class_mode='categorical',\n",
        "    batch_size=32\n",
        ")\n",
        "\n",
        "val_generator = val_datagen.flow_from_dataframe(\n",
        "    val_df,\n",
        "    x_col='image_path',\n",
        "    y_col='Diagnosis',\n",
        "    target_size=(IMG_SIZE, IMG_SIZE),\n",
        "    class_mode='categorical',\n",
        "    batch_size=32\n",
        ")\n",
        "\n",
        "test_generator = test_datagen.flow_from_dataframe(\n",
        "    test_df,\n",
        "    x_col='image_path',\n",
        "    y_col='Diagnosis',\n",
        "    target_size=(IMG_SIZE, IMG_SIZE),\n",
        "    class_mode='categorical',\n",
        "    batch_size=32,\n",
        "    shuffle=False\n",
        ")\n"
      ],
      "metadata": {
        "colab": {
          "base_uri": "https://localhost:8080/"
        },
        "id": "bLWqOlfGlmCl",
        "outputId": "d30c0fc2-e0ea-4c22-990e-bb514943f466"
      },
      "execution_count": null,
      "outputs": [
        {
          "output_type": "stream",
          "name": "stdout",
          "text": [
            "Found 29787 validated image filenames belonging to 7 classes.\n",
            "Found 7447 validated image filenames belonging to 7 classes.\n",
            "Found 9309 validated image filenames belonging to 7 classes.\n"
          ]
        }
      ]
    },
    {
      "cell_type": "markdown",
      "source": [
        "## Step 5 — Building the ResNet50 Model\n",
        "\n",
        "- Load **ResNet50 pretrained on ImageNet** (`include_top=False`).\n",
        "- Unfreeze the **last 30 layers** for fine-tuning.\n",
        "- Add custom layers:\n",
        "  - `Flatten → Dense(256, relu) → Dropout(0.5) → Dense(7, softmax)`\n",
        "- Compile model with:\n",
        "  - Optimizer: `Adam(lr=1e-4)`\n",
        "  - Loss: `categorical_crossentropy`\n",
        "  - Metric: `accuracy`\n"
      ],
      "metadata": {
        "id": "5cBwc3gLSZhT"
      }
    },
    {
      "cell_type": "code",
      "source": [
        "import tensorflow as tf\n",
        "from tensorflow.keras.applications import ResNet50\n",
        "from tensorflow.keras.layers import Dense, GlobalAveragePooling2D\n",
        "from tensorflow.keras.models import Model,Sequential\n",
        "from tensorflow.keras.layers import *\n",
        "\n",
        "base_model = ResNet50(weights='imagenet', include_top=False, input_shape=(224, 224, 3))\n",
        "\n",
        "for layer in base_model.layers[-30:]:\n",
        "    layer.trainable = True\n",
        "\n",
        "model = Sequential([\n",
        "    base_model,\n",
        "    Flatten(),\n",
        "    Dense(256, activation='relu'),\n",
        "    Dropout(0.5),\n",
        "    Dense(7, activation='softmax')\n",
        "])\n"
      ],
      "metadata": {
        "id": "zZktv6ecaJse"
      },
      "execution_count": null,
      "outputs": []
    },
    {
      "cell_type": "code",
      "source": [
        "model.summary()"
      ],
      "metadata": {
        "colab": {
          "base_uri": "https://localhost:8080/",
          "height": 289
        },
        "id": "fzqLxZMcWWUd",
        "outputId": "2987ee0c-c9b0-4a88-b352-d2dae3df9a17"
      },
      "execution_count": null,
      "outputs": [
        {
          "output_type": "display_data",
          "data": {
            "text/plain": [
              "\u001b[1mModel: \"sequential_3\"\u001b[0m\n"
            ],
            "text/html": [
              "<pre style=\"white-space:pre;overflow-x:auto;line-height:normal;font-family:Menlo,'DejaVu Sans Mono',consolas,'Courier New',monospace\"><span style=\"font-weight: bold\">Model: \"sequential_3\"</span>\n",
              "</pre>\n"
            ]
          },
          "metadata": {}
        },
        {
          "output_type": "display_data",
          "data": {
            "text/plain": [
              "┏━━━━━━━━━━━━━━━━━━━━━━━━━━━━━━━━━┳━━━━━━━━━━━━━━━━━━━━━━━━┳━━━━━━━━━━━━━━━┓\n",
              "┃\u001b[1m \u001b[0m\u001b[1mLayer (type)                   \u001b[0m\u001b[1m \u001b[0m┃\u001b[1m \u001b[0m\u001b[1mOutput Shape          \u001b[0m\u001b[1m \u001b[0m┃\u001b[1m \u001b[0m\u001b[1m      Param #\u001b[0m\u001b[1m \u001b[0m┃\n",
              "┡━━━━━━━━━━━━━━━━━━━━━━━━━━━━━━━━━╇━━━━━━━━━━━━━━━━━━━━━━━━╇━━━━━━━━━━━━━━━┩\n",
              "│ resnet50 (\u001b[38;5;33mFunctional\u001b[0m)           │ (\u001b[38;5;45mNone\u001b[0m, \u001b[38;5;34m7\u001b[0m, \u001b[38;5;34m7\u001b[0m, \u001b[38;5;34m2048\u001b[0m)     │    \u001b[38;5;34m23,587,712\u001b[0m │\n",
              "├─────────────────────────────────┼────────────────────────┼───────────────┤\n",
              "│ flatten_3 (\u001b[38;5;33mFlatten\u001b[0m)             │ (\u001b[38;5;45mNone\u001b[0m, \u001b[38;5;34m100352\u001b[0m)         │             \u001b[38;5;34m0\u001b[0m │\n",
              "├─────────────────────────────────┼────────────────────────┼───────────────┤\n",
              "│ dense_6 (\u001b[38;5;33mDense\u001b[0m)                 │ (\u001b[38;5;45mNone\u001b[0m, \u001b[38;5;34m256\u001b[0m)            │    \u001b[38;5;34m25,690,368\u001b[0m │\n",
              "├─────────────────────────────────┼────────────────────────┼───────────────┤\n",
              "│ dropout_3 (\u001b[38;5;33mDropout\u001b[0m)             │ (\u001b[38;5;45mNone\u001b[0m, \u001b[38;5;34m256\u001b[0m)            │             \u001b[38;5;34m0\u001b[0m │\n",
              "├─────────────────────────────────┼────────────────────────┼───────────────┤\n",
              "│ dense_7 (\u001b[38;5;33mDense\u001b[0m)                 │ (\u001b[38;5;45mNone\u001b[0m, \u001b[38;5;34m7\u001b[0m)              │         \u001b[38;5;34m1,799\u001b[0m │\n",
              "└─────────────────────────────────┴────────────────────────┴───────────────┘\n"
            ],
            "text/html": [
              "<pre style=\"white-space:pre;overflow-x:auto;line-height:normal;font-family:Menlo,'DejaVu Sans Mono',consolas,'Courier New',monospace\">┏━━━━━━━━━━━━━━━━━━━━━━━━━━━━━━━━━┳━━━━━━━━━━━━━━━━━━━━━━━━┳━━━━━━━━━━━━━━━┓\n",
              "┃<span style=\"font-weight: bold\"> Layer (type)                    </span>┃<span style=\"font-weight: bold\"> Output Shape           </span>┃<span style=\"font-weight: bold\">       Param # </span>┃\n",
              "┡━━━━━━━━━━━━━━━━━━━━━━━━━━━━━━━━━╇━━━━━━━━━━━━━━━━━━━━━━━━╇━━━━━━━━━━━━━━━┩\n",
              "│ resnet50 (<span style=\"color: #0087ff; text-decoration-color: #0087ff\">Functional</span>)           │ (<span style=\"color: #00d7ff; text-decoration-color: #00d7ff\">None</span>, <span style=\"color: #00af00; text-decoration-color: #00af00\">7</span>, <span style=\"color: #00af00; text-decoration-color: #00af00\">7</span>, <span style=\"color: #00af00; text-decoration-color: #00af00\">2048</span>)     │    <span style=\"color: #00af00; text-decoration-color: #00af00\">23,587,712</span> │\n",
              "├─────────────────────────────────┼────────────────────────┼───────────────┤\n",
              "│ flatten_3 (<span style=\"color: #0087ff; text-decoration-color: #0087ff\">Flatten</span>)             │ (<span style=\"color: #00d7ff; text-decoration-color: #00d7ff\">None</span>, <span style=\"color: #00af00; text-decoration-color: #00af00\">100352</span>)         │             <span style=\"color: #00af00; text-decoration-color: #00af00\">0</span> │\n",
              "├─────────────────────────────────┼────────────────────────┼───────────────┤\n",
              "│ dense_6 (<span style=\"color: #0087ff; text-decoration-color: #0087ff\">Dense</span>)                 │ (<span style=\"color: #00d7ff; text-decoration-color: #00d7ff\">None</span>, <span style=\"color: #00af00; text-decoration-color: #00af00\">256</span>)            │    <span style=\"color: #00af00; text-decoration-color: #00af00\">25,690,368</span> │\n",
              "├─────────────────────────────────┼────────────────────────┼───────────────┤\n",
              "│ dropout_3 (<span style=\"color: #0087ff; text-decoration-color: #0087ff\">Dropout</span>)             │ (<span style=\"color: #00d7ff; text-decoration-color: #00d7ff\">None</span>, <span style=\"color: #00af00; text-decoration-color: #00af00\">256</span>)            │             <span style=\"color: #00af00; text-decoration-color: #00af00\">0</span> │\n",
              "├─────────────────────────────────┼────────────────────────┼───────────────┤\n",
              "│ dense_7 (<span style=\"color: #0087ff; text-decoration-color: #0087ff\">Dense</span>)                 │ (<span style=\"color: #00d7ff; text-decoration-color: #00d7ff\">None</span>, <span style=\"color: #00af00; text-decoration-color: #00af00\">7</span>)              │         <span style=\"color: #00af00; text-decoration-color: #00af00\">1,799</span> │\n",
              "└─────────────────────────────────┴────────────────────────┴───────────────┘\n",
              "</pre>\n"
            ]
          },
          "metadata": {}
        },
        {
          "output_type": "display_data",
          "data": {
            "text/plain": [
              "\u001b[1m Total params: \u001b[0m\u001b[38;5;34m49,279,879\u001b[0m (187.99 MB)\n"
            ],
            "text/html": [
              "<pre style=\"white-space:pre;overflow-x:auto;line-height:normal;font-family:Menlo,'DejaVu Sans Mono',consolas,'Courier New',monospace\"><span style=\"font-weight: bold\"> Total params: </span><span style=\"color: #00af00; text-decoration-color: #00af00\">49,279,879</span> (187.99 MB)\n",
              "</pre>\n"
            ]
          },
          "metadata": {}
        },
        {
          "output_type": "display_data",
          "data": {
            "text/plain": [
              "\u001b[1m Trainable params: \u001b[0m\u001b[38;5;34m49,226,759\u001b[0m (187.79 MB)\n"
            ],
            "text/html": [
              "<pre style=\"white-space:pre;overflow-x:auto;line-height:normal;font-family:Menlo,'DejaVu Sans Mono',consolas,'Courier New',monospace\"><span style=\"font-weight: bold\"> Trainable params: </span><span style=\"color: #00af00; text-decoration-color: #00af00\">49,226,759</span> (187.79 MB)\n",
              "</pre>\n"
            ]
          },
          "metadata": {}
        },
        {
          "output_type": "display_data",
          "data": {
            "text/plain": [
              "\u001b[1m Non-trainable params: \u001b[0m\u001b[38;5;34m53,120\u001b[0m (207.50 KB)\n"
            ],
            "text/html": [
              "<pre style=\"white-space:pre;overflow-x:auto;line-height:normal;font-family:Menlo,'DejaVu Sans Mono',consolas,'Courier New',monospace\"><span style=\"font-weight: bold\"> Non-trainable params: </span><span style=\"color: #00af00; text-decoration-color: #00af00\">53,120</span> (207.50 KB)\n",
              "</pre>\n"
            ]
          },
          "metadata": {}
        }
      ]
    },
    {
      "cell_type": "code",
      "source": [
        "from tensorflow.keras.optimizers import Adam\n",
        "model.compile(optimizer=Adam(learning_rate=1e-4), loss='categorical_crossentropy', metrics=['accuracy'])"
      ],
      "metadata": {
        "id": "2WuhbSrLWdpV"
      },
      "execution_count": null,
      "outputs": []
    },
    {
      "cell_type": "markdown",
      "source": [
        "## Step 6 — Training the Model\n",
        "\n",
        "- Use callbacks:\n",
        "  - `EarlyStopping` (monitor validation accuracy, patience=5)\n",
        "  - `ModelCheckpoint` (save best model automatically)\n",
        "- Train for **10 epochs** on the augmented training data.\n",
        "- Save the final model as `skin_cancer_resnet50_finetuned.h5`."
      ],
      "metadata": {
        "id": "-vvXG4NeSlnv"
      }
    },
    {
      "cell_type": "code",
      "source": [
        "# 5. Callbacks\n",
        "from tensorflow.keras.callbacks import EarlyStopping, ModelCheckpoint\n",
        "\n",
        "callbacks = [\n",
        "    EarlyStopping(monitor='val_accuracy', patience=5, restore_best_weights=True),\n",
        "    ModelCheckpoint(\"best_skin_cancer_model.h5\", monitor='val_accuracy', save_best_only=True)\n",
        "]"
      ],
      "metadata": {
        "id": "a6Wz2dkZXUDP"
      },
      "execution_count": null,
      "outputs": []
    },
    {
      "cell_type": "code",
      "source": [
        "history = model.fit(train_generator,validation_data=val_generator,epochs=10,callbacks=callbacks)"
      ],
      "metadata": {
        "colab": {
          "base_uri": "https://localhost:8080/"
        },
        "id": "wfKvMfPpXwV9",
        "outputId": "ae118605-e0fb-4941-f36c-2345e5d28b36"
      },
      "execution_count": null,
      "outputs": [
        {
          "output_type": "stream",
          "name": "stdout",
          "text": [
            "Epoch 1/10\n",
            "\u001b[1m931/931\u001b[0m \u001b[32m━━━━━━━━━━━━━━━━━━━━\u001b[0m\u001b[37m\u001b[0m \u001b[1m0s\u001b[0m 725ms/step - accuracy: 0.6338 - loss: 1.2099"
          ]
        },
        {
          "output_type": "stream",
          "name": "stderr",
          "text": [
            "WARNING:absl:You are saving your model as an HDF5 file via `model.save()` or `keras.saving.save_model(model)`. This file format is considered legacy. We recommend using instead the native Keras format, e.g. `model.save('my_model.keras')` or `keras.saving.save_model(model, 'my_model.keras')`. \n"
          ]
        },
        {
          "output_type": "stream",
          "name": "stdout",
          "text": [
            "\b\b\b\b\b\b\b\b\b\b\b\b\b\b\b\b\b\b\b\b\b\b\b\b\b\b\b\b\b\b\b\b\b\b\b\b\b\b\b\b\b\b\b\b\b\b\b\b\b\b\b\b\b\b\b\b\b\b\b\b\b\b\b\b\b\b\b\b\b\b\b\b\b\b\b\b\r\u001b[1m931/931\u001b[0m \u001b[32m━━━━━━━━━━━━━━━━━━━━\u001b[0m\u001b[37m\u001b[0m \u001b[1m826s\u001b[0m 811ms/step - accuracy: 0.6339 - loss: 1.2094 - val_accuracy: 0.3459 - val_loss: 3.0963\n",
            "Epoch 2/10\n",
            "\u001b[1m931/931\u001b[0m \u001b[32m━━━━━━━━━━━━━━━━━━━━\u001b[0m\u001b[37m\u001b[0m \u001b[1m0s\u001b[0m 687ms/step - accuracy: 0.8652 - loss: 0.3872"
          ]
        },
        {
          "output_type": "stream",
          "name": "stderr",
          "text": [
            "WARNING:absl:You are saving your model as an HDF5 file via `model.save()` or `keras.saving.save_model(model)`. This file format is considered legacy. We recommend using instead the native Keras format, e.g. `model.save('my_model.keras')` or `keras.saving.save_model(model, 'my_model.keras')`. \n"
          ]
        },
        {
          "output_type": "stream",
          "name": "stdout",
          "text": [
            "\b\b\b\b\b\b\b\b\b\b\b\b\b\b\b\b\b\b\b\b\b\b\b\b\b\b\b\b\b\b\b\b\b\b\b\b\b\b\b\b\b\b\b\b\b\b\b\b\b\b\b\b\b\b\b\b\b\b\b\b\b\b\b\b\b\b\b\b\b\b\b\b\b\b\b\b\r\u001b[1m931/931\u001b[0m \u001b[32m━━━━━━━━━━━━━━━━━━━━\u001b[0m\u001b[37m\u001b[0m \u001b[1m730s\u001b[0m 784ms/step - accuracy: 0.8652 - loss: 0.3872 - val_accuracy: 0.6924 - val_loss: 1.6547\n",
            "Epoch 3/10\n",
            "\u001b[1m931/931\u001b[0m \u001b[32m━━━━━━━━━━━━━━━━━━━━\u001b[0m\u001b[37m\u001b[0m \u001b[1m0s\u001b[0m 688ms/step - accuracy: 0.8851 - loss: 0.3596"
          ]
        },
        {
          "output_type": "stream",
          "name": "stderr",
          "text": [
            "WARNING:absl:You are saving your model as an HDF5 file via `model.save()` or `keras.saving.save_model(model)`. This file format is considered legacy. We recommend using instead the native Keras format, e.g. `model.save('my_model.keras')` or `keras.saving.save_model(model, 'my_model.keras')`. \n"
          ]
        },
        {
          "output_type": "stream",
          "name": "stdout",
          "text": [
            "\b\b\b\b\b\b\b\b\b\b\b\b\b\b\b\b\b\b\b\b\b\b\b\b\b\b\b\b\b\b\b\b\b\b\b\b\b\b\b\b\b\b\b\b\b\b\b\b\b\b\b\b\b\b\b\b\b\b\b\b\b\b\b\b\b\b\b\b\b\b\b\b\b\b\b\b\r\u001b[1m931/931\u001b[0m \u001b[32m━━━━━━━━━━━━━━━━━━━━\u001b[0m\u001b[37m\u001b[0m \u001b[1m730s\u001b[0m 784ms/step - accuracy: 0.8851 - loss: 0.3595 - val_accuracy: 0.7786 - val_loss: 0.7921\n",
            "Epoch 4/10\n",
            "\u001b[1m931/931\u001b[0m \u001b[32m━━━━━━━━━━━━━━━━━━━━\u001b[0m\u001b[37m\u001b[0m \u001b[1m0s\u001b[0m 689ms/step - accuracy: 0.9270 - loss: 0.2163"
          ]
        },
        {
          "output_type": "stream",
          "name": "stderr",
          "text": [
            "WARNING:absl:You are saving your model as an HDF5 file via `model.save()` or `keras.saving.save_model(model)`. This file format is considered legacy. We recommend using instead the native Keras format, e.g. `model.save('my_model.keras')` or `keras.saving.save_model(model, 'my_model.keras')`. \n"
          ]
        },
        {
          "output_type": "stream",
          "name": "stdout",
          "text": [
            "\b\b\b\b\b\b\b\b\b\b\b\b\b\b\b\b\b\b\b\b\b\b\b\b\b\b\b\b\b\b\b\b\b\b\b\b\b\b\b\b\b\b\b\b\b\b\b\b\b\b\b\b\b\b\b\b\b\b\b\b\b\b\b\b\b\b\b\b\b\b\b\b\b\b\b\b\r\u001b[1m931/931\u001b[0m \u001b[32m━━━━━━━━━━━━━━━━━━━━\u001b[0m\u001b[37m\u001b[0m \u001b[1m734s\u001b[0m 788ms/step - accuracy: 0.9270 - loss: 0.2163 - val_accuracy: 0.8324 - val_loss: 0.7796\n",
            "Epoch 5/10\n",
            "\u001b[1m931/931\u001b[0m \u001b[32m━━━━━━━━━━━━━━━━━━━━\u001b[0m\u001b[37m\u001b[0m \u001b[1m704s\u001b[0m 756ms/step - accuracy: 0.9454 - loss: 0.1592 - val_accuracy: 0.7547 - val_loss: 0.8510\n",
            "Epoch 6/10\n",
            "\u001b[1m931/931\u001b[0m \u001b[32m━━━━━━━━━━━━━━━━━━━━\u001b[0m\u001b[37m\u001b[0m \u001b[1m701s\u001b[0m 753ms/step - accuracy: 0.9365 - loss: 0.1915 - val_accuracy: 0.6028 - val_loss: 3.6535\n",
            "Epoch 7/10\n",
            "\u001b[1m931/931\u001b[0m \u001b[32m━━━━━━━━━━━━━━━━━━━━\u001b[0m\u001b[37m\u001b[0m \u001b[1m0s\u001b[0m 681ms/step - accuracy: 0.9460 - loss: 0.1565"
          ]
        },
        {
          "output_type": "stream",
          "name": "stderr",
          "text": [
            "WARNING:absl:You are saving your model as an HDF5 file via `model.save()` or `keras.saving.save_model(model)`. This file format is considered legacy. We recommend using instead the native Keras format, e.g. `model.save('my_model.keras')` or `keras.saving.save_model(model, 'my_model.keras')`. \n"
          ]
        },
        {
          "output_type": "stream",
          "name": "stdout",
          "text": [
            "\b\b\b\b\b\b\b\b\b\b\b\b\b\b\b\b\b\b\b\b\b\b\b\b\b\b\b\b\b\b\b\b\b\b\b\b\b\b\b\b\b\b\b\b\b\b\b\b\b\b\b\b\b\b\b\b\b\b\b\b\b\b\b\b\b\b\b\b\b\b\b\b\b\b\b\b\r\u001b[1m931/931\u001b[0m \u001b[32m━━━━━━━━━━━━━━━━━━━━\u001b[0m\u001b[37m\u001b[0m \u001b[1m728s\u001b[0m 782ms/step - accuracy: 0.9460 - loss: 0.1565 - val_accuracy: 0.8975 - val_loss: 0.3093\n",
            "Epoch 8/10\n",
            "\u001b[1m931/931\u001b[0m \u001b[32m━━━━━━━━━━━━━━━━━━━━\u001b[0m\u001b[37m\u001b[0m \u001b[1m700s\u001b[0m 751ms/step - accuracy: 0.9590 - loss: 0.1220 - val_accuracy: 0.8888 - val_loss: 0.5250\n",
            "Epoch 9/10\n",
            "\u001b[1m931/931\u001b[0m \u001b[32m━━━━━━━━━━━━━━━━━━━━\u001b[0m\u001b[37m\u001b[0m \u001b[1m0s\u001b[0m 686ms/step - accuracy: 0.9624 - loss: 0.1202"
          ]
        },
        {
          "output_type": "stream",
          "name": "stderr",
          "text": [
            "WARNING:absl:You are saving your model as an HDF5 file via `model.save()` or `keras.saving.save_model(model)`. This file format is considered legacy. We recommend using instead the native Keras format, e.g. `model.save('my_model.keras')` or `keras.saving.save_model(model, 'my_model.keras')`. \n"
          ]
        },
        {
          "output_type": "stream",
          "name": "stdout",
          "text": [
            "\b\b\b\b\b\b\b\b\b\b\b\b\b\b\b\b\b\b\b\b\b\b\b\b\b\b\b\b\b\b\b\b\b\b\b\b\b\b\b\b\b\b\b\b\b\b\b\b\b\b\b\b\b\b\b\b\b\b\b\b\b\b\b\b\b\b\b\b\b\b\b\b\b\b\b\b\r\u001b[1m931/931\u001b[0m \u001b[32m━━━━━━━━━━━━━━━━━━━━\u001b[0m\u001b[37m\u001b[0m \u001b[1m744s\u001b[0m 799ms/step - accuracy: 0.9624 - loss: 0.1203 - val_accuracy: 0.9157 - val_loss: 0.2899\n",
            "Epoch 10/10\n",
            "\u001b[1m931/931\u001b[0m \u001b[32m━━━━━━━━━━━━━━━━━━━━\u001b[0m\u001b[37m\u001b[0m \u001b[1m0s\u001b[0m 687ms/step - accuracy: 0.9646 - loss: 0.1137"
          ]
        },
        {
          "output_type": "stream",
          "name": "stderr",
          "text": [
            "WARNING:absl:You are saving your model as an HDF5 file via `model.save()` or `keras.saving.save_model(model)`. This file format is considered legacy. We recommend using instead the native Keras format, e.g. `model.save('my_model.keras')` or `keras.saving.save_model(model, 'my_model.keras')`. \n"
          ]
        },
        {
          "output_type": "stream",
          "name": "stdout",
          "text": [
            "\b\b\b\b\b\b\b\b\b\b\b\b\b\b\b\b\b\b\b\b\b\b\b\b\b\b\b\b\b\b\b\b\b\b\b\b\b\b\b\b\b\b\b\b\b\b\b\b\b\b\b\b\b\b\b\b\b\b\b\b\b\b\b\b\b\b\b\b\b\b\b\b\b\b\b\b\r\u001b[1m931/931\u001b[0m \u001b[32m━━━━━━━━━━━━━━━━━━━━\u001b[0m\u001b[37m\u001b[0m \u001b[1m719s\u001b[0m 772ms/step - accuracy: 0.9646 - loss: 0.1137 - val_accuracy: 0.9589 - val_loss: 0.1205\n"
          ]
        }
      ]
    },
    {
      "cell_type": "code",
      "source": [
        "model.save(\"skin_cancer_resnet50_finetuned.h5\")\n",
        "print(\"Model saved successfully!\")"
      ],
      "metadata": {
        "colab": {
          "base_uri": "https://localhost:8080/"
        },
        "id": "-mIHNQaHX718",
        "outputId": "56a67ac8-ffe6-46dd-b4e0-b914ea51ff1f"
      },
      "execution_count": null,
      "outputs": [
        {
          "output_type": "stream",
          "name": "stderr",
          "text": [
            "WARNING:absl:You are saving your model as an HDF5 file via `model.save()` or `keras.saving.save_model(model)`. This file format is considered legacy. We recommend using instead the native Keras format, e.g. `model.save('my_model.keras')` or `keras.saving.save_model(model, 'my_model.keras')`. \n"
          ]
        },
        {
          "output_type": "stream",
          "name": "stdout",
          "text": [
            "Model saved successfully!\n"
          ]
        }
      ]
    },
    {
      "cell_type": "markdown",
      "source": [
        "## Step 7 — Model Evaluation\n",
        "\n",
        "- Predict on the test dataset.\n",
        "- Generate:\n",
        "  - **Classification report** (precision, recall, F1-score per class)\n",
        "  - **Confusion matrix** using Seaborn heatmap\n",
        "  - **Training vs. validation accuracy and loss** plots\n",
        "- Print **final test accuracy and loss**.\n"
      ],
      "metadata": {
        "id": "Wx8_OAvFS2MU"
      }
    },
    {
      "cell_type": "code",
      "source": [
        "from sklearn.metrics import classification_report\n",
        "import numpy as np\n",
        "\n",
        "y_pred = model.predict(test_generator)\n",
        "y_pred_classes = np.argmax(y_pred, axis=1)\n",
        "\n",
        "y_true = test_generator.classes\n",
        "\n",
        "class_labels = list(test_generator.class_indices.keys())\n",
        "\n",
        "print(classification_report(y_true, y_pred_classes, target_names=class_labels))\n"
      ],
      "metadata": {
        "colab": {
          "base_uri": "https://localhost:8080/"
        },
        "id": "W4-8I1pu5HJN",
        "outputId": "9287d19b-6ca0-4c8c-c54d-b4d6d6c56013"
      },
      "execution_count": null,
      "outputs": [
        {
          "output_type": "stream",
          "name": "stdout",
          "text": [
            "\u001b[1m291/291\u001b[0m \u001b[32m━━━━━━━━━━━━━━━━━━━━\u001b[0m\u001b[37m\u001b[0m \u001b[1m92s\u001b[0m 300ms/step\n",
            "                                     precision    recall  f1-score   support\n",
            "\n",
            "          Actinic keratoses (akiec)       0.99      0.99      0.99      1308\n",
            "         Basal cell carcinoma (bcc)       0.99      0.99      0.99      1336\n",
            "Benign keratosis-like lesions (bkl)       0.94      0.94      0.94      1319\n",
            "                Dermatofibroma (df)       0.99      1.00      1.00      1334\n",
            "              Melanocytic nevi (nv)       0.84      0.93      0.88      1341\n",
            "                     Melanoma (mel)       0.96      0.85      0.90      1336\n",
            "            Vascular lesions (vasc)       1.00      1.00      1.00      1335\n",
            "\n",
            "                           accuracy                           0.96      9309\n",
            "                          macro avg       0.96      0.96      0.96      9309\n",
            "                       weighted avg       0.96      0.96      0.96      9309\n",
            "\n"
          ]
        }
      ]
    },
    {
      "cell_type": "code",
      "source": [
        "import matplotlib.pyplot as plt\n",
        "\n",
        "# Plot training and validation accuracy\n",
        "plt.figure(figsize=(12, 4))\n",
        "plt.subplot(1, 2, 1)\n",
        "plt.plot(history.history['accuracy'], label='Training Accuracy')\n",
        "plt.plot(history.history['val_accuracy'], label='Validation Accuracy')\n",
        "plt.title('Model Accuracy')\n",
        "plt.xlabel('Epoch')\n",
        "plt.ylabel('Accuracy')\n",
        "plt.legend()\n",
        "\n",
        "# Plot training and validation loss\n",
        "plt.subplot(1, 2, 2)\n",
        "plt.plot(history.history['loss'], label='Training Loss')\n",
        "plt.plot(history.history['val_loss'], label='Validation Loss')\n",
        "plt.title('Model Loss')\n",
        "plt.xlabel('Epoch')\n",
        "plt.ylabel('Loss')\n",
        "plt.legend()\n",
        "\n",
        "plt.show()\n",
        "\n",
        "# Evaluate the model on the test set to get test accuracy and loss\n",
        "test_loss, test_acc = model.evaluate(test_generator, verbose=0)\n",
        "print(f\"\\nTest Accuracy: {test_acc:.4f}\")\n",
        "print(f\"Test Loss: {test_loss:.4f}\")"
      ],
      "metadata": {
        "colab": {
          "base_uri": "https://localhost:8080/",
          "height": 462
        },
        "id": "Q3s72AMH8dTo",
        "outputId": "759e8837-bd6f-4a26-9c0b-13543424971c"
      },
      "execution_count": null,
      "outputs": [
        {
          "output_type": "display_data",
          "data": {
            "text/plain": [
              "<Figure size 1200x400 with 2 Axes>"
            ],
            "image/png": "[encoded data removed]"
          },
          "metadata": {}
        },
        {
          "output_type": "stream",
          "name": "stdout",
          "text": [
            "\n",
            "Test Accuracy: 0.9576\n",
            "Test Loss: 0.1222\n"
          ]
        }
      ]
    },
    {
      "cell_type": "code",
      "source": [
        "from sklearn.metrics import confusion_matrix\n",
        "import seaborn as sns\n",
        "import matplotlib.pyplot as plt\n",
        "\n",
        "# Compute the confusion matrix\n",
        "cm = confusion_matrix(y_true, y_pred_classes)\n",
        "\n",
        "# Get the class labels\n",
        "class_labels = list(test_generator.class_indices.keys())\n",
        "\n",
        "# Plot the confusion matrix\n",
        "plt.figure(figsize=(10, 8))\n",
        "sns.heatmap(cm, annot=True, fmt='d', cmap='Blues', xticklabels=class_labels, yticklabels=class_labels)\n",
        "plt.xlabel('Predicted Label')\n",
        "plt.ylabel('True Label')\n",
        "plt.title('Confusion Matrix')\n",
        "plt.show()"
      ],
      "metadata": {
        "colab": {
          "base_uri": "https://localhost:8080/",
          "height": 936
        },
        "id": "o2tAxV0U92WU",
        "outputId": "93d65093-93d1-4551-d8f5-81604e9bddfd"
      },
      "execution_count": null,
      "outputs": [
        {
          "output_type": "display_data",
          "data": {
            "text/plain": [
              "<Figure size 1000x800 with 2 Axes>"
            ],
            "image/png": "[encoded data removed]"
          },
          "metadata": {}
        }
      ]
    },
    {
      "cell_type": "markdown",
      "source": [
        "## Outputs and Next Steps\n",
        "\n",
        "**Outputs:**\n",
        "- Trained model file: `skin_cancer_resnet50_finetuned.h5`\n",
        "- Best model checkpoint: `best_skin_cancer_model.h5`\n",
        "- Performance metrics and plots\n",
        "\n",
        "**Possible Improvements:**\n",
        "- Use class weights instead of oversampling\n",
        "- Replace `Flatten()` with `GlobalAveragePooling2D()` to reduce parameters\n",
        "- Add `ReduceLROnPlateau` to dynamically lower learning rate\n",
        "- Compute per-class ROC-AUC (more informative for medical tasks)\n",
        "- Train longer with smaller learning rate for better convergence"
      ],
      "metadata": {
        "id": "nfiqWEdRTRnA"
      }
    }
  ]
}